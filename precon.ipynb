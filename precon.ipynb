{
 "cells": [
  {
   "cell_type": "code",
   "execution_count": 1,
   "metadata": {},
   "outputs": [],
   "source": [
    "import argparse\n",
    "import glob\n",
    "import os\n",
    "import re\n",
    "import shutil\n",
    "import warnings\n",
    "from pathlib import Path\n",
    "\n",
    "import numpy as np\n",
    "import pandas as pd\n",
    "import pydicom\n",
    "import SimpleITK as sitk"
   ]
  },
  {
   "cell_type": "code",
   "execution_count": 8,
   "metadata": {},
   "outputs": [],
   "source": [
    "input = '/Users/mona/Documents/data/registration/patient/015/T1_PRECE4_MAP/*.dcm'\n",
    "output = '/Users/mona/Documents/data/registration/patient_T1/015/PreconT1/T1_PRECE4_MAP_new'\n",
    "for file in glob.glob(input):\n",
    "    # print(file, glob.glob(os.path.join(file, '*.dcm')))\n",
    "    scans = file\n",
    "    # scans = glob.glob(os.path.join(file, '*.dcm'))[0]\n",
    "    subject = Path(file).stem\n",
    "    img = pydicom.dcmread(scans)\n",
    "\n",
    "    os.makedirs(f\"{output}/{subject}\", exist_ok=True)\n",
    "    img.save_as(os.path.join(\n",
    "        f\"{output}/{subject}\", f\"{subject}\" + '.dcm'))"
   ]
  }
 ],
 "metadata": {
  "kernelspec": {
   "display_name": "voxelmorph",
   "language": "python",
   "name": "python3"
  },
  "language_info": {
   "codemirror_mode": {
    "name": "ipython",
    "version": 3
   },
   "file_extension": ".py",
   "mimetype": "text/x-python",
   "name": "python",
   "nbconvert_exporter": "python",
   "pygments_lexer": "ipython3",
   "version": "3.10.8"
  }
 },
 "nbformat": 4,
 "nbformat_minor": 2
}
