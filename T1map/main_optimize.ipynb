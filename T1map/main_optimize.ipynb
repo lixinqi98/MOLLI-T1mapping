{
 "cells": [
  {
   "cell_type": "code",
   "execution_count": 1,
   "id": "0afffe9c-621f-47eb-a78e-56a206f55f03",
   "metadata": {},
   "outputs": [],
   "source": [
    "import os\n",
    "import numpy as np\n",
    "import pickle\n",
    "import warnings\n",
    "import scipy.io as sio\n",
    "import matplotlib.pyplot as plt\n",
    "from Optimize import Optimize\n",
    "\n",
    "warnings.filterwarnings(\"ignore\")\n",
    "warnings.simplefilter(action='ignore', category=RuntimeWarning)"
   ]
  },
  {
   "cell_type": "code",
   "execution_count": 2,
   "id": "c96a6829-0748-4623-aa6a-2a5aa57c0a3f",
   "metadata": {},
   "outputs": [
    {
     "name": "stdout",
     "output_type": "stream",
     "text": [
      "(11,)\n"
     ]
    }
   ],
   "source": [
    "def load_orig_file(mat_fname):\n",
    "    mat_contents = sio.loadmat(mat_fname)\n",
    "    tvec = np.squeeze(mat_contents['tvec_post']).astype(np.float32)\n",
    "    frames = np.squeeze(mat_contents['volume_post']).astype(np.float32)\n",
    "    return tvec, frames\n",
    "\n",
    "\n",
    "__file__ = '/Users/mona/Documents/data/registration/voxelmorph/MOLLI_original/0379217_20131018_MOLLI.mat'\n",
    "filename = __file__\n",
    "tvec, frames = load_orig_file(filename)\n",
    "print(tvec.shape)"
   ]
  },
  {
   "cell_type": "code",
   "execution_count": 3,
   "id": "4aef07da-9b4f-4b83-b24a-839232dc924c",
   "metadata": {},
   "outputs": [
    {
     "name": "stdout",
     "output_type": "stream",
     "text": [
      "(24, 24, 11)\n"
     ]
    }
   ],
   "source": [
    "new_frames = frames[::10,::10,:]\n",
    "print(new_frames.shape)"
   ]
  },
  {
   "cell_type": "code",
   "execution_count": 4,
   "id": "8fbc3321-114e-42aa-bd78-6cc5eb6c7143",
   "metadata": {},
   "outputs": [
    {
     "name": "stdout",
     "output_type": "stream",
     "text": [
      "Time elapsed: 0.057115836938222246 mins\n"
     ]
    },
    {
     "data": {
      "text/plain": [
       "<matplotlib.image.AxesImage at 0x154b4a590>"
      ]
     },
     "execution_count": 4,
     "metadata": {},
     "output_type": "execute_result"
    },
    {
     "data": {
      "image/png": "[encoded data removed]",
      "text/plain": [
       "<Figure size 432x288 with 1 Axes>"
      ]
     },
     "metadata": {
      "needs_background": "light"
     },
     "output_type": "display_data"
    }
   ],
   "source": [
    "opt = Optimize()\n",
    "inversion_recovery_img, pmap, sdmap, null_index, S = opt.synthesis(tvec, new_frames)\n",
    "initial_T1 = S\n",
    "plt.imshow(initial_T1)"
   ]
  },
  {
   "cell_type": "code",
   "execution_count": 5,
   "id": "7caad4b4-fcac-4d36-9cd7-cd493c39974c",
   "metadata": {},
   "outputs": [
    {
     "data": {
      "text/plain": [
       "(24, 24, 11)"
      ]
     },
     "execution_count": 5,
     "metadata": {},
     "output_type": "execute_result"
    }
   ],
   "source": [
    "inversion_recovery_img.shape"
   ]
  },
  {
   "cell_type": "code",
   "execution_count": 6,
   "id": "557700dd-ae83-42c5-b682-205c36c827ab",
   "metadata": {},
   "outputs": [],
   "source": [
    "I = new_frames\n",
    "M = np.dstack([initial_T1] * new_frames.shape[-1])\n",
    "S = inversion_recovery_img"
   ]
  },
  {
   "cell_type": "code",
   "execution_count": 7,
   "id": "936f40d8-787e-4e2a-a655-cf1e38396237",
   "metadata": {},
   "outputs": [],
   "source": [
    "energy = opt.energy(I, M, S)"
   ]
  },
  {
   "cell_type": "code",
   "execution_count": 8,
   "id": "cf74e34a-4dec-4e35-9636-47481a89d5a9",
   "metadata": {},
   "outputs": [
    {
     "data": {
      "text/plain": [
       "array([[[0.00000000e+00, 0.00000000e+00, 0.00000000e+00, ...,\n",
       "         0.00000000e+00, 0.00000000e+00, 0.00000000e+00],\n",
       "        [0.00000000e+00, 0.00000000e+00, 0.00000000e+00, ...,\n",
       "         0.00000000e+00, 0.00000000e+00, 0.00000000e+00],\n",
       "        [0.00000000e+00, 0.00000000e+00, 0.00000000e+00, ...,\n",
       "         0.00000000e+00, 0.00000000e+00, 0.00000000e+00],\n",
       "        ...,\n",
       "        [1.00000000e+00, 4.00000000e+00, 4.00000000e+00, ...,\n",
       "         1.00000000e+00, 0.00000000e+00, 9.00000000e+00],\n",
       "        [1.60000000e+01, 0.00000000e+00, 0.00000000e+00, ...,\n",
       "         1.00000000e+00, 1.00000000e+00, 4.00000000e+00],\n",
       "        [7.42679032e+01, 1.65930368e+02, 2.90098297e+02, ...,\n",
       "         4.26517399e+02, 3.66885433e+02, 3.95701416e+02]],\n",
       "\n",
       "       [[1.00000000e+00, 0.00000000e+00, 0.00000000e+00, ...,\n",
       "         1.00000000e+00, 0.00000000e+00, 0.00000000e+00],\n",
       "        [0.00000000e+00, 0.00000000e+00, 0.00000000e+00, ...,\n",
       "         0.00000000e+00, 0.00000000e+00, 0.00000000e+00],\n",
       "        [0.00000000e+00, 0.00000000e+00, 0.00000000e+00, ...,\n",
       "         0.00000000e+00, 0.00000000e+00, 0.00000000e+00],\n",
       "        ...,\n",
       "        [1.36143084e+04, 9.34882671e+03, 9.22352665e+03, ...,\n",
       "         1.87922486e+04, 1.52436051e+04, 1.54123758e+04],\n",
       "        [4.82885521e+04, 4.34001436e+04, 3.68778136e+04, ...,\n",
       "         4.28319218e+04, 4.04596983e+04, 3.68778350e+04],\n",
       "        [3.63793145e+02, 4.57706658e+02, 4.68960109e+02, ...,\n",
       "         4.15428319e+02, 8.68873641e+02, 3.20145863e+02]],\n",
       "\n",
       "       [[0.00000000e+00, 0.00000000e+00, 0.00000000e+00, ...,\n",
       "         0.00000000e+00, 1.00000000e+00, 0.00000000e+00],\n",
       "        [0.00000000e+00, 0.00000000e+00, 0.00000000e+00, ...,\n",
       "         1.00000000e+00, 0.00000000e+00, 0.00000000e+00],\n",
       "        [0.00000000e+00, 0.00000000e+00, 0.00000000e+00, ...,\n",
       "         0.00000000e+00, 0.00000000e+00, 0.00000000e+00],\n",
       "        ...,\n",
       "        [1.25002999e+05, 5.75389688e+04, 5.55586533e+04, ...,\n",
       "         5.55586585e+04, 5.45810151e+04, 5.79098264e+04],\n",
       "        [9.40861729e+04, 2.83050021e+04, 2.65260965e+04, ...,\n",
       "         2.74042497e+04, 2.65260965e+04, 2.54734050e+04],\n",
       "        [2.84342283e+05, 2.01440889e+05, 1.99647618e+05, ...,\n",
       "         1.97779604e+05, 1.79530587e+05, 1.99647637e+05]],\n",
       "\n",
       "       ...,\n",
       "\n",
       "       [[0.00000000e+00, 0.00000000e+00, 0.00000000e+00, ...,\n",
       "         0.00000000e+00, 0.00000000e+00, 0.00000000e+00],\n",
       "        [0.00000000e+00, 0.00000000e+00, 0.00000000e+00, ...,\n",
       "         0.00000000e+00, 0.00000000e+00, 0.00000000e+00],\n",
       "        [0.00000000e+00, 1.00000000e+00, 0.00000000e+00, ...,\n",
       "         0.00000000e+00, 0.00000000e+00, 0.00000000e+00],\n",
       "        ...,\n",
       "        [6.50721221e+03, 1.51959428e+04, 2.14929267e+04, ...,\n",
       "         4.21010884e+04, 4.31795982e+04, 4.29256441e+04],\n",
       "        [5.55959433e+03, 1.36306152e+04, 1.89905024e+04, ...,\n",
       "         3.91303550e+04, 3.81421480e+04, 3.86994107e+04],\n",
       "        [2.56499311e+03, 6.22621463e+03, 8.70317503e+03, ...,\n",
       "         2.72985882e+04, 2.15191956e+04, 2.09423554e+04]],\n",
       "\n",
       "       [[0.00000000e+00, 0.00000000e+00, 0.00000000e+00, ...,\n",
       "         0.00000000e+00, 0.00000000e+00, 0.00000000e+00],\n",
       "        [0.00000000e+00, 0.00000000e+00, 0.00000000e+00, ...,\n",
       "         0.00000000e+00, 0.00000000e+00, 0.00000000e+00],\n",
       "        [0.00000000e+00, 0.00000000e+00, 0.00000000e+00, ...,\n",
       "         1.00000000e+00, 1.00000000e+00, 0.00000000e+00],\n",
       "        ...,\n",
       "        [4.53476894e+03, 1.09218543e+04, 1.33020108e+04, ...,\n",
       "         3.01483922e+04, 3.30333518e+04, 3.05174344e+04],\n",
       "        [5.21857129e+03, 1.31797978e+04, 1.95553788e+04, ...,\n",
       "         3.90410615e+04, 4.03601683e+04, 4.12614036e+04],\n",
       "        [4.26928612e+02, 3.64597773e+03, 5.53803696e+03, ...,\n",
       "         1.49612560e+04, 1.35139949e+04, 1.30547613e+04]],\n",
       "\n",
       "       [[0.00000000e+00, 1.00000000e+00, 0.00000000e+00, ...,\n",
       "         1.00000000e+00, 0.00000000e+00, 0.00000000e+00],\n",
       "        [0.00000000e+00, 0.00000000e+00, 0.00000000e+00, ...,\n",
       "         0.00000000e+00, 1.00000000e+00, 0.00000000e+00],\n",
       "        [0.00000000e+00, 0.00000000e+00, 1.60000000e+01, ...,\n",
       "         0.00000000e+00, 0.00000000e+00, 0.00000000e+00],\n",
       "        ...,\n",
       "        [5.61996024e+03, 6.76419294e+03, 9.87552647e+03, ...,\n",
       "         2.21505925e+04, 2.47401214e+04, 2.47360651e+04],\n",
       "        [3.90760984e+03, 1.43078946e+04, 1.88471706e+04, ...,\n",
       "         3.93298968e+04, 3.97723846e+04, 3.98026111e+04],\n",
       "        [5.30965333e+03, 1.10105284e+04, 1.45899552e+04, ...,\n",
       "         2.27677417e+04, 2.06742839e+04, 2.04794966e+04]]])"
      ]
     },
     "execution_count": 8,
     "metadata": {},
     "output_type": "execute_result"
    }
   ],
   "source": [
    "energy"
   ]
  }
 ],
 "metadata": {
  "kernelspec": {
   "display_name": "voxelmorph",
   "language": "python",
   "name": "python3"
  },
  "language_info": {
   "codemirror_mode": {
    "name": "ipython",
    "version": 3
   },
   "file_extension": ".py",
   "mimetype": "text/x-python",
   "name": "python",
   "nbconvert_exporter": "python",
   "pygments_lexer": "ipython3",
   "version": "3.10.8"
  },
  "vscode": {
   "interpreter": {
    "hash": "0a1cd2b23f8ff06b7afb03302d9352d9e4f8beda4281272f70ede951c0d66b58"
   }
  }
 },
 "nbformat": 4,
 "nbformat_minor": 5
}
