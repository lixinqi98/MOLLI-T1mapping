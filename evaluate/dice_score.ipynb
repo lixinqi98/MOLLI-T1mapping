{
 "cells": [
  {
   "cell_type": "code",
   "execution_count": 1,
   "metadata": {},
   "outputs": [],
   "source": [
    "import glob\n",
    "import numpy as np\n",
    "import nibabel as nib"
   ]
  },
  {
   "cell_type": "code",
   "execution_count": 32,
   "metadata": {},
   "outputs": [],
   "source": [
    "def assert_shape(test, reference):\n",
    "\n",
    "    assert test.shape == reference.shape, \"Shape mismatch: {} and {}\".format(\n",
    "        test.shape, reference.shape)\n",
    "    \n",
    "    \n",
    "class ConfusionMatrix:\n",
    "\n",
    "    def __init__(self, test=None, reference=None):\n",
    "\n",
    "        self.tp = None\n",
    "        self.fp = None\n",
    "        self.tn = None\n",
    "        self.fn = None\n",
    "        self.size = None\n",
    "        self.reference_empty = None\n",
    "        self.reference_full = None\n",
    "        self.test_empty = None\n",
    "        self.test_full = None\n",
    "        self.set_reference(reference)\n",
    "        self.set_test(test)\n",
    "\n",
    "    def set_test(self, test):\n",
    "\n",
    "        self.test = test\n",
    "        self.reset()\n",
    "\n",
    "    def set_reference(self, reference):\n",
    "\n",
    "        self.reference = reference\n",
    "        self.reset()\n",
    "\n",
    "    def reset(self):\n",
    "\n",
    "        self.tp = None\n",
    "        self.fp = None\n",
    "        self.tn = None\n",
    "        self.fn = None\n",
    "        self.size = None\n",
    "        self.test_empty = None\n",
    "        self.test_full = None\n",
    "        self.reference_empty = None\n",
    "        self.reference_full = None\n",
    "\n",
    "    def compute(self):\n",
    "\n",
    "        if self.test is None or self.reference is None:\n",
    "            raise ValueError(\"'test' and 'reference' must both be set to compute confusion matrix.\")\n",
    "\n",
    "        assert_shape(self.test, self.reference)\n",
    "\n",
    "        self.tp = int(((self.test != 0) * (self.reference != 0)).sum())\n",
    "        self.fp = int(((self.test != 0) * (self.reference == 0)).sum())\n",
    "        self.tn = int(((self.test == 0) * (self.reference == 0)).sum())\n",
    "        self.fn = int(((self.test == 0) * (self.reference != 0)).sum())\n",
    "        self.size = int(np.prod(self.reference.shape, dtype=np.int64))\n",
    "        self.test_empty = not np.any(self.test)\n",
    "        self.test_full = np.all(self.test)\n",
    "        self.reference_empty = not np.any(self.reference)\n",
    "        self.reference_full = np.all(self.reference)\n",
    "\n",
    "    def get_matrix(self):\n",
    "\n",
    "        for entry in (self.tp, self.fp, self.tn, self.fn):\n",
    "            if entry is None:\n",
    "                self.compute()\n",
    "                break\n",
    "\n",
    "        return self.tp, self.fp, self.tn, self.fn\n",
    "\n",
    "    def get_size(self):\n",
    "\n",
    "        if self.size is None:\n",
    "            self.compute()\n",
    "        return self.size\n",
    "\n",
    "    def get_existence(self):\n",
    "\n",
    "        for case in (self.test_empty, self.test_full, self.reference_empty, self.reference_full):\n",
    "            if case is None:\n",
    "                self.compute()\n",
    "                break\n",
    "\n",
    "        return self.test_empty, self.test_full, self.reference_empty, self.reference_full\n",
    "\n",
    "\n",
    "def dice(test=None, reference=None, confusion_matrix=None, nan_for_nonexisting=True, **kwargs):\n",
    "    \"\"\"2TP / (2TP + FP + FN)\"\"\"\n",
    "\n",
    "    if confusion_matrix is None:\n",
    "        confusion_matrix = ConfusionMatrix(test, reference)\n",
    "\n",
    "    tp, fp, tn, fn = confusion_matrix.get_matrix()\n",
    "    test_empty, test_full, reference_empty, reference_full = confusion_matrix.get_existence()\n",
    "\n",
    "    if test_empty and reference_empty:\n",
    "        if nan_for_nonexisting:\n",
    "            return float(\"NaN\")\n",
    "        else:\n",
    "            return 0.\n",
    "\n",
    "    return float(2. * tp / (2 * tp + fp + fn))"
   ]
  },
  {
   "cell_type": "code",
   "execution_count": 6,
   "metadata": {},
   "outputs": [
    {
     "name": "stdout",
     "output_type": "stream",
     "text": [
      "Ground truth shape: (96, 96, 17), MOCO_stage1 shape: (96, 96, 17), MOCO_stage2 shape: (96, 96, 17)\n"
     ]
    }
   ],
   "source": [
    "# test for one subject\n",
    "import SimpleITK as sitk\n",
    "base = '/Users/mona/Library/CloudStorage/Box-Box/Animals/Cinnemon/Cinnemon_D6/registration/'\n",
    "gt_path = f'{base}/POSTCONT1_endo_epi.nii'\n",
    "\n",
    "MOCO_stage1_path = f'{base}/register_1_endo_epi.nii'\n",
    "MOCO_stage2_path = f'{base}/register_2_endo_epi.nii'\n",
    "\n",
    "gt = sitk.GetArrayFromImage(sitk.ReadImage(gt_path)).transpose(0, 2, 1)\n",
    "MOCO_stage1 = sitk.GetArrayFromImage(sitk.ReadImage(MOCO_stage1_path)).transpose(0, 2, 1)\n",
    "MOCO_stage2 = sitk.GetArrayFromImage(sitk.ReadImage(MOCO_stage2_path)).transpose(0, 2, 1)\n",
    "\n",
    "print(f\"Ground truth shape: {gt.shape}, MOCO_stage1 shape: {MOCO_stage1.shape}, MOCO_stage2 shape: {MOCO_stage2.shape}\")"
   ]
  },
  {
   "cell_type": "code",
   "execution_count": 7,
   "metadata": {},
   "outputs": [],
   "source": [
    "sitk.Show(sitk.GetImageFromArray(gt.transpose(2, 0, 1)))\n",
    "sitk.Show(sitk.GetImageFromArray(MOCO_stage1.transpose(2, 0, 1)))\n",
    "sitk.Show(sitk.GetImageFromArray(MOCO_stage2.transpose(2, 0, 1)))"
   ]
  },
  {
   "cell_type": "code",
   "execution_count": 31,
   "metadata": {},
   "outputs": [],
   "source": [
    "# def dice_score(y_true, y_pred):\n",
    "#     print(y_pred.shape, y_true.shape)\n",
    "#     ndims = len(list(y_pred.shape)) - 2\n",
    "#     vol_axes = list(range(2, ndims + 2))\n",
    "#     top = np.sum(2 * (y_true * y_pred), keepdims=vol_axes)\n",
    "#     # top = 2 * (y_true * y_pred).sum(dim=vol_axes)\n",
    "#     bottom = np.clip(np.sum(y_true + y_pred, keepdims=vol_axes), min=1e-5)\n",
    "#     # bottom = torch.clamp((y_true + y_pred).sum(dim=vol_axes), min=1e-5)\n",
    "#     # dice = torch.mean(top / bottom)\n",
    "#     dice = np.mean(top / bottom)\n",
    "#     return -dice\n",
    "\n",
    "\n",
    "def dice_score_slice(data):\n",
    "    num_slices = data.shape[-1]\n",
    "    sum_dice = 0\n",
    "    template = round(num_slices/2)\n",
    "    for i in range(num_slices):\n",
    "        if i != template:\n",
    "            sum_dice += dice(test=data[:,:,i], reference=data[:,:,template])\n",
    "    return sum_dice / num_slices"
   ]
  },
  {
   "cell_type": "code",
   "execution_count": 17,
   "metadata": {},
   "outputs": [],
   "source": [
    "sitk.Show(sitk.GetImageFromArray(LV_myo_gt.transpose(2, 0, 1)))"
   ]
  },
  {
   "cell_type": "code",
   "execution_count": 36,
   "metadata": {},
   "outputs": [
    {
     "name": "stdout",
     "output_type": "stream",
     "text": [
      "LV and myo Dice for groundtruth: 0.9007229967845952, Dice after first stage: 0.9088718138523625, Dice after second stage 0.8965059279709937\n"
     ]
    }
   ],
   "source": [
    "import copy\n",
    "LV_myo_gt = copy.deepcopy(gt)\n",
    "LV_myo_gt[LV_myo_gt==1] = 0\n",
    "LV_myo_gt[LV_myo_gt==2] = 1\n",
    "LV_myo_stage1 = copy.deepcopy(MOCO_stage1)\n",
    "LV_myo_stage1[LV_myo_stage1 ==1] = 0\n",
    "LV_myo_stage1[LV_myo_stage1 ==2] = 1\n",
    "LV_myo_stage2 = copy.deepcopy(MOCO_stage2)\n",
    "LV_myo_stage2[LV_myo_stage2 == 1] = 0\n",
    "LV_myo_stage2[LV_myo_stage2 == 2] = 1\n",
    "\n",
    "dice_gt = dice_score_slice(LV_myo_gt)\n",
    "dice_stage1 = dice_score_slice(LV_myo_stage1)\n",
    "dice_stage2 = dice_score_slice(LV_myo_stage2)\n",
    "print(f\"LV and myo Dice for groundtruth: {dice_gt}, Dice after first stage: {dice_stage1}, Dice after second stage {dice_stage2}\")"
   ]
  },
  {
   "cell_type": "code",
   "execution_count": 35,
   "metadata": {},
   "outputs": [
    {
     "name": "stdout",
     "output_type": "stream",
     "text": [
      "Myo Dice for groundtruth: 0.8917304973286084, Dice after first stage: 0.9020859799846722, Dice after second stage 0.8871082419211254\n"
     ]
    }
   ],
   "source": [
    "import copy\n",
    "myo_gt = copy.deepcopy(gt)\n",
    "myo_gt[myo_gt>1] = 0\n",
    "myo_stage1 = copy.deepcopy(MOCO_stage1)\n",
    "myo_stage1[myo_stage1 > 1] = 0\n",
    "myo_stage2 = copy.deepcopy(MOCO_stage2)\n",
    "myo_stage2[myo_stage2 > 1] = 0\n",
    "\n",
    "dice_gt = dice_score_slice(myo_gt)\n",
    "dice_stage1 = dice_score_slice(myo_stage1)\n",
    "dice_stage2 = dice_score_slice(myo_stage2)\n",
    "print(f\"Myo Dice for groundtruth: {dice_gt}, Dice after first stage: {dice_stage1}, Dice after second stage {dice_stage2}\")\n"
   ]
  }
 ],
 "metadata": {
  "kernelspec": {
   "display_name": "voxelmorph",
   "language": "python",
   "name": "python3"
  },
  "language_info": {
   "codemirror_mode": {
    "name": "ipython",
    "version": 3
   },
   "file_extension": ".py",
   "mimetype": "text/x-python",
   "name": "python",
   "nbconvert_exporter": "python",
   "pygments_lexer": "ipython3",
   "version": "3.10.8"
  },
  "orig_nbformat": 4
 },
 "nbformat": 4,
 "nbformat_minor": 2
}
